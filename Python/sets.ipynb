{
 "cells": [
  {
   "cell_type": "code",
   "execution_count": 37,
   "id": "6a15c4d1",
   "metadata": {},
   "outputs": [
    {
     "name": "stdout",
     "output_type": "stream",
     "text": [
      "  olleh  dlrow \n"
     ]
    }
   ],
   "source": [
    "stg=input(\"Enter a sentence\")\n",
    "stg=stg+\" \"\n",
    "temp=\" \"\n",
    "rev=\" \"\n",
    "for i in stg:\n",
    "    if i!=\" \":\n",
    "        temp=i+temp\n",
    "    else:\n",
    "        rev=rev+\" \"+temp\n",
    "        temp=\" \"\n",
    "print(rev)"
   ]
  },
  {
   "cell_type": "code",
   "execution_count": 38,
   "id": "b6e80bae",
   "metadata": {},
   "outputs": [],
   "source": [
    "# Creating sets\n",
    "set1 = {1, 2, 3, 4, 5}\n",
    "set2 = set([3, 4, 5, 6, 7])\n"
   ]
  },
  {
   "cell_type": "code",
   "execution_count": 39,
   "id": "10b6e8b7",
   "metadata": {},
   "outputs": [],
   "source": [
    "set1.add(6)\n"
   ]
  },
  {
   "cell_type": "code",
   "execution_count": 40,
   "id": "39de0b39",
   "metadata": {},
   "outputs": [],
   "source": [
    "set1.update([7, 8, 9])\n"
   ]
  },
  {
   "cell_type": "code",
   "execution_count": 41,
   "id": "33035016",
   "metadata": {},
   "outputs": [],
   "source": [
    "set1.remove(3)\n"
   ]
  },
  {
   "cell_type": "code",
   "execution_count": 42,
   "id": "4df57d1f",
   "metadata": {},
   "outputs": [],
   "source": [
    "popped_element = set1.pop()\n"
   ]
  },
  {
   "cell_type": "code",
   "execution_count": 43,
   "id": "910ddb42",
   "metadata": {},
   "outputs": [],
   "source": [
    "set1.clear()\n"
   ]
  },
  {
   "cell_type": "code",
   "execution_count": 44,
   "id": "9c221a03",
   "metadata": {},
   "outputs": [],
   "source": [
    "union_set = set1.union(set2)\n",
    "# or\n",
    "union_set = set1 | set2\n"
   ]
  },
  {
   "cell_type": "code",
   "execution_count": 45,
   "id": "5b87d9f1",
   "metadata": {},
   "outputs": [],
   "source": [
    "difference_set = set1.difference(set2)\n",
    "# or\n",
    "difference_set = set1 - set2\n"
   ]
  },
  {
   "cell_type": "code",
   "execution_count": 46,
   "id": "df3330c0",
   "metadata": {},
   "outputs": [
    {
     "name": "stdout",
     "output_type": "stream",
     "text": [
      "0\n",
      "False\n"
     ]
    }
   ],
   "source": [
    "# Example usage\n",
    "print(len(set1))\n",
    "print(6 in set1)\n",
    "\n",
    "# Output:\n",
    "# 8\n",
    "# False\n"
   ]
  },
  {
   "cell_type": "code",
   "execution_count": 47,
   "id": "b1c9f380",
   "metadata": {},
   "outputs": [
    {
     "name": "stdout",
     "output_type": "stream",
     "text": [
      "List with duplicates: [1, 2, 2, 3, 4, 4, 5]\n",
      "List without duplicates: [1, 2, 3, 4, 5]\n"
     ]
    }
   ],
   "source": [
    "# Removing duplicates from a list using sets\n",
    "input_list = [1, 2, 2, 3, 4, 4, 5]\n",
    "unique_elements = list(set(input_list))\n",
    "print(\"List with duplicates:\", input_list)\n",
    "print(\"List without duplicates:\", unique_elements)\n"
   ]
  },
  {
   "cell_type": "code",
   "execution_count": 48,
   "id": "7f0b4e38",
   "metadata": {},
   "outputs": [
    {
     "name": "stdout",
     "output_type": "stream",
     "text": [
      "Intersection of set1 and set2: {3, 4, 5}\n"
     ]
    }
   ],
   "source": [
    "# Set Intersection\n",
    "set1 = {1, 2, 3, 4, 5}\n",
    "set2 = {3, 4, 5, 6, 7}\n",
    "intersection_set = set1.intersection(set2)\n",
    "print(\"Intersection of set1 and set2:\", intersection_set)\n"
   ]
  },
  {
   "cell_type": "code",
   "execution_count": 49,
   "id": "ffd43773",
   "metadata": {},
   "outputs": [
    {
     "name": "stdout",
     "output_type": "stream",
     "text": [
      "Union of set1 and set2: {1, 2, 3, 4, 5}\n"
     ]
    }
   ],
   "source": [
    "# Set Union\n",
    "set1 = {1, 2, 3}\n",
    "set2 = {3, 4, 5}\n",
    "union_set = set1.union(set2)\n",
    "print(\"Union of set1 and set2:\", union_set)\n"
   ]
  },
  {
   "cell_type": "code",
   "execution_count": 50,
   "id": "5bd3fe0f",
   "metadata": {},
   "outputs": [
    {
     "name": "stdout",
     "output_type": "stream",
     "text": [
      "Elements in set1 but not in set2: {1, 2}\n"
     ]
    }
   ],
   "source": [
    "# Set Difference\n",
    "set1 = {1, 2, 3, 4, 5}\n",
    "set2 = {3, 4, 5}\n",
    "difference_set = set1.difference(set2)\n",
    "print(\"Elements in set1 but not in set2:\", difference_set)\n"
   ]
  },
  {
   "cell_type": "code",
   "execution_count": 51,
   "id": "d7aaa301",
   "metadata": {},
   "outputs": [
    {
     "name": "stdout",
     "output_type": "stream",
     "text": [
      "set1 is a subset of set2: True\n"
     ]
    }
   ],
   "source": [
    "# Checking if a set is a subset of another set\n",
    "set1 = {1, 2, 3}\n",
    "set2 = {1, 2, 3, 4, 5}\n",
    "is_subset = set1.issubset(set2)\n",
    "print(\"set1 is a subset of set2:\", is_subset)\n"
   ]
  },
  {
   "cell_type": "code",
   "execution_count": 52,
   "id": "610074e6",
   "metadata": {},
   "outputs": [
    {
     "name": "stdout",
     "output_type": "stream",
     "text": [
      "Set of squares: {1, 4, 9, 16, 25}\n"
     ]
    }
   ],
   "source": [
    "# Set comprehension to create a set of squares\n",
    "numbers = {1, 2, 3, 4, 5}\n",
    "squares = {x**2 for x in numbers}\n",
    "print(\"Set of squares:\", squares)\n"
   ]
  },
  {
   "cell_type": "code",
   "execution_count": 53,
   "id": "863e849c",
   "metadata": {},
   "outputs": [
    {
     "name": "stdout",
     "output_type": "stream",
     "text": [
      "Set after removing 3 : {1, 2, 4, 5}\n"
     ]
    }
   ],
   "source": [
    "# Removing an element from a set\n",
    "my_set = {1, 2, 3, 4, 5}\n",
    "element_to_remove = 3\n",
    "if element_to_remove in my_set:\n",
    "    my_set.remove(element_to_remove)\n",
    "print(\"Set after removing\", element_to_remove, \":\", my_set)\n"
   ]
  },
  {
   "cell_type": "code",
   "execution_count": 54,
   "id": "9989648b",
   "metadata": {},
   "outputs": [
    {
     "name": "stdout",
     "output_type": "stream",
     "text": [
      "Number of unique words in the sentence: 9\n"
     ]
    }
   ],
   "source": [
    "# Counting unique words in a sentence using sets\n",
    "sentence = \"This is a sample sentence with some words. This sentence contains some words.\"\n",
    "words = sentence.split()\n",
    "unique_words = set(words)\n",
    "word_count = len(unique_words)\n",
    "print(\"Number of unique words in the sentence:\", word_count)\n"
   ]
  },
  {
   "cell_type": "code",
   "execution_count": null,
   "id": "293ad6fb",
   "metadata": {},
   "outputs": [],
   "source": []
  }
 ],
 "metadata": {
  "kernelspec": {
   "display_name": "Python 3 (ipykernel)",
   "language": "python",
   "name": "python3"
  },
  "language_info": {
   "codemirror_mode": {
    "name": "ipython",
    "version": 3
   },
   "file_extension": ".py",
   "mimetype": "text/x-python",
   "name": "python",
   "nbconvert_exporter": "python",
   "pygments_lexer": "ipython3",
   "version": "3.11.5"
  }
 },
 "nbformat": 4,
 "nbformat_minor": 5
}
